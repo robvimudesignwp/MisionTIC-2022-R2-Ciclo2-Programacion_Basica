{
 "cells": [
  {
   "cell_type": "markdown",
   "metadata": {},
   "source": [
    "# Recorrido por el lenguaje"
   ]
  },
  {
   "cell_type": "markdown",
   "metadata": {},
   "source": [
    "## Comentarios"
   ]
  },
  {
   "cell_type": "markdown",
   "metadata": {},
   "source": [
    "```Java\n",
    "// Este es un comentario de línea\n",
    "\n",
    "/*\n",
    "Este es un comentario de bloque\n",
    "Todo entre estos símbolos es ignorado\n",
    "*/\n",
    "\n",
    "/**\n",
    "* Este es un comentario de documentación.\n",
    "* Se usa para el Javadoc de nuestro proyecto\n",
    "*/\n",
    "```"
   ]
  },
  {
   "cell_type": "markdown",
   "metadata": {},
   "source": [
    "## Sentencias"
   ]
  },
  {
   "cell_type": "markdown",
   "metadata": {},
   "source": [
    "- Las sentencias acaban con **punto y coma** (;). Este carácter separa una sentencia de la siguiente.  \n",
    "- Los espacios en blanco solo son necesarios para la legibilidad, no importa en la interpretación del código.\n",
    "\n",
    "Ejemplo:\n",
    "```Java\n",
    "int i=1;\n",
    "import java.awt.*;\n",
    "System.out.println(\"El primer programa\");\n",
    "rect.mover(10, 20);\n",
    "```"
   ]
  },
  {
   "cell_type": "markdown",
   "metadata": {},
   "source": [
    "### Definición de variables\n",
    "- **Todas las variables han de declararse antes de usarlas**.\n",
    "- La declaración consiste en una sentencia en la que figura, el _tipo de dato_ y el _nombre_ que asignamos a la variable.\n",
    "> **OJO**: El tipo de dato de la variable no cambiará después de creada.\n",
    "- Una vez declarada se le podrá asignar valores.\n",
    "\n",
    "Ejemplo:\n",
    "```Java\n",
    "int x=0;\n",
    "String nombre=\"Angel\";\n",
    "double a=3.5;\n",
    "boolean bNuevo=true;\n",
    "int[] datos;\n",
    "```\n",
    "\n",
    "A partir de Java 10 podremos utilizar la palabra reservada **var** para crear objetos sin tener que definir el tipo.  \n",
    "Java va a _inferir_ el tipo de dato que será la variable a partir del valor que sea asignada al momento de la creación.  \n",
    "Si no asigna un valor, no se podrá inferir el tipo, por lo tanto no se podrá usar **var**.\n",
    "\n",
    "Ejemplo:\n",
    "```Java\n",
    "var number = 0;\n",
    "var list = List.of(1, 2, 3);\n",
    "var example = \"example\";\n",
    "var team = new Team();\n",
    "```"
   ]
  },
  {
   "cell_type": "markdown",
   "metadata": {},
   "source": [
    "#### Tipos de datos básicos (primitivos)"
   ]
  },
  {
   "cell_type": "markdown",
   "metadata": {},
   "source": [
    "![Tipos de datos básicos](assets/tipos_datos.png)"
   ]
  },
  {
   "cell_type": "markdown",
   "metadata": {},
   "source": [
    "##### Tipo de dato **boolean** (booleano)\n",
    "Representa un valor de una proposición lógica: falso o verdadero.\n",
    "```Java\n",
    "false\n",
    "true\n",
    "```"
   ]
  },
  {
   "cell_type": "markdown",
   "metadata": {},
   "source": [
    "##### Tipos de dato entero\n",
    "- Estos representan los valores numéricos que **no** tienen parte decimal.  \n",
    "- Dependiendo de si tamaño en bytes, tiene un rango de valores que se pueden representar con este tipo de dato.\n",
    "  - `byte`\n",
    "  - `short`\n",
    "  - `int` (por defecto)\n",
    "  - `long`\n",
    "- Por defecto los _números enteros literales_ que usemos en el código, se entenderán que son de tipo **_int_**.\n",
    "- Para poder decir que un _número entero literal_ es de tipo **long**, debemos agregar al final la letra **L**.\n",
    "- En los _números enteros literales_, podemos usar el **guion bajo** (_) como símbolo separador de miles para mejorar la legibilidad. Java lo ignorará al momento de operar on ellos.\n",
    "\n",
    "Ejemplo:\n",
    "```Java\n",
    "byte valor = 10;\n",
    "short corto = 1055;\n",
    "int entero = 1007755;\n",
    "long largo = 1571L; \n",
    "\n",
    "var valor = 10233; // Es un int\n",
    "\n",
    "var valorNormal = 132565778900L; // Sin formato\n",
    "var valorSeparado = 132_565_778_900L; // Con formato\n",
    "```"
   ]
  },
  {
   "cell_type": "markdown",
   "metadata": {},
   "source": [
    "##### Tipos de dato decimal o flotante\n",
    "- Estos representan los valores numéricos que **si** tienen parte decimal. \n",
    "- El símbolo que separa el valor entero del decimal es el **punto** (.) \n",
    "- Dependiendo de si tamaño en bytes, tiene un rango de valores que se pueden representar con este tipo de dato.\n",
    "  - `float`\n",
    "  - `double` (por defecto)\n",
    "- Por defecto los _números decimales literales_ que usemos en el código, se entenderán que son de tipo **_double_**.\n",
    "- Para poder decir que un _número decimal literal_ es de tipo **float**, debemos agregar al final la letra **F** o **f**.\n",
    "- En los _números decimales literales_, también podemos usar el **guion bajo** (_) como símbolo separador de miles para mejorar la legibilidad. Java lo ignorará al momento de operar on ellos.\n",
    "\n",
    "Ejemplo:\n",
    "```Java\n",
    "float valor = 10.0f;\n",
    "double decimal = 1055.125;\n",
    "\n",
    "var valor = 102.33; // Es un double\n",
    "\n",
    "var valorNormal = 132565778900d;\n",
    "var valorSeparado = 132_565_778_900.0005;\n",
    "```"
   ]
  },
  {
   "cell_type": "markdown",
   "metadata": {},
   "source": [
    "##### Tipo de dato **char** (carácter)\n",
    "- En Java los caracteres no están restringidos a los ASCII sino que son Unicode.\n",
    "- Un carácter está siempre rodeado de **comillas simples** (') como 'A', '9', 'ñ', etc.\n",
    "- Un tipo especial de carácter es la secuencia de escape, que se utilizan para representar caracteres de control o caracteres que no se imprimen.  \n",
    "![caracteres de control](assets/caracteres_control.png)\n",
    "- Para indicar un carácter Unicode que no puede ser representado en ASCII, como 'ö', se utilizado la secuencia de escape **'\\udddd'** donde cada \"d\" en la secuencia de escape es un dígito hexadecimal.\n",
    "> `'\\u00F6' = 'ö'`\n",
    "\n",
    "Ejemplo:\n",
    "```Java\n",
    "char letra = 'A';\n",
    "var letra = 'B';\n",
    "```"
   ]
  },
  {
   "cell_type": "markdown",
   "metadata": {},
   "source": [
    "##### Tipo de dato especial **String** (cadena de caracteres)\n",
    "- String define y admite cadenas de caracteres.\n",
    "- Se define como una colección de caracteres _char_  encerradas en **comillas dobles** (\").\n",
    "> `\"Hola Mundo\"`\n",
    "- En algunos otros lenguajes de programación, una cadena o string es una matriz o array de caracteres. Este no es el caso con Java. **Los Strings son objetos**.\n",
    "\n",
    "Ejemplo:\n",
    "```Java\n",
    "String cadena = \"Hola Mundo\";\n",
    "var nombre = \"César Augusto Díaz Arriaga\";\n",
    "```"
   ]
  },
  {
   "cell_type": "markdown",
   "metadata": {},
   "source": [
    "#### Identificadores\n",
    "Un identificador es un nombre que identifica a una _variable_, a un _método_ o función miembro, a una clase. \n",
    "\n",
    "Todos los lenguajes tienen ciertas reglas para componer los identificadores:\n",
    "- Todos los identificadores han de comenzar con una letra, el carácter subrayado ( _ ) o el carácter dollar ( $ ).\n",
    "- Puede incluir, pero no comenzar por un número.\n",
    "- No puede incluir el carácter espacio en blanco.\n",
    "- Distingue entre letras mayúsculas y minúsculas.\n",
    "- No se pueden utilizar las _palabras reservadas_ como identificadores.\n",
    "\n",
    "Ejemplos:\n",
    "```\n",
    "MyVariable\n",
    "MYVARIABLE\n",
    "myvariable\n",
    "x\n",
    "i\n",
    "x1\n",
    "i1\n",
    "_myvariable\n",
    "$myvariable\n",
    "sum_of_array\n",
    "javadesdecero\n",
    "4num \n",
    "z#\n",
    "\"Edad\" \n",
    "Tom's \n",
    "año-nacimiento \n",
    "public \n",
    "__precio:final \n",
    "```"
   ]
  },
  {
   "cell_type": "markdown",
   "metadata": {},
   "source": [
    "#### Palabras reservadas\n",
    "Las palabras reservadas se pueden clasificar en las siguientes categorías:\n",
    "- **Tipos de datos**: boolean, float, double, int, char\n",
    "- **Sentencias condicionales**: if, else, switch\n",
    "- **Sentencias iterativas**: for, do, while, continue, break, continue\n",
    "- **Tratamiento de las excepciones**: try, catch, finally, throw\n",
    "- **Estructura de datos**: class, interface, implements, extends\n",
    "- **Modificadores y control de acceso**: public, private, protected, transient, abstract\n",
    "- **Otras**: super, null, this.\n",
    "\n",
    "[Ver documentación](https://docs.oracle.com/javase/tutorial/java/nutsandbolts/_keywords.html)"
   ]
  },
  {
   "cell_type": "markdown",
   "metadata": {},
   "source": [
    "### Expresiones \n",
    "Es todo aquello que se puede poner a la derecha del operador **asignación** (=) o que se usa en condiciones.\n",
    "```Java\n",
    "x = 123;\n",
    "y = (x+100)/4;\n",
    "area = circulo.calcularArea(2.5);\n",
    "r = new Rectangulo(10, 10, 200, 300);\n",
    "a > 25\n",
    "```"
   ]
  },
  {
   "cell_type": "markdown",
   "metadata": {},
   "source": [
    "#### Operadores aritméticos"
   ]
  },
  {
   "cell_type": "markdown",
   "metadata": {},
   "source": [
    "![Operadores aritméticos 1](assets/operadores_1.png)\n",
    "\n",
    "![Operadores aritméticos 2](assets/operadores_2.png)"
   ]
  },
  {
   "cell_type": "markdown",
   "metadata": {},
   "source": [
    "#### Operadores condicionales"
   ]
  },
  {
   "cell_type": "markdown",
   "metadata": {},
   "source": [
    "![Operadores condicionales](assets/operadores_3.png)\n",
    "\n"
   ]
  },
  {
   "cell_type": "markdown",
   "metadata": {},
   "source": [
    "#### Operadores lógicos o booleanos"
   ]
  },
  {
   "cell_type": "markdown",
   "metadata": {},
   "source": [
    "![Operadores lógicos](assets/operadores_4.png)"
   ]
  },
  {
   "cell_type": "markdown",
   "metadata": {},
   "source": [
    "#### Operador condicional ternario"
   ]
  },
  {
   "cell_type": "markdown",
   "metadata": {},
   "source": [
    "![Operador ternario](assets/operadores_5.png)"
   ]
  },
  {
   "cell_type": "markdown",
   "metadata": {},
   "source": [
    "#### Precedencia de operadores"
   ]
  },
  {
   "cell_type": "markdown",
   "metadata": {},
   "source": [
    "![Precedencia de operadores 1](assets/precedencia_1.png)\n",
    "\n",
    "![Precedencia de operadores 2](assets/precedencia_2.png)"
   ]
  },
  {
   "cell_type": "markdown",
   "metadata": {},
   "source": [
    "### Interactuando con el usuario"
   ]
  },
  {
   "cell_type": "markdown",
   "metadata": {},
   "source": [
    "#### Mostrando datos en pantalla\n",
    "```Java\n",
    "System.out.println(\"Hola Mundo!\");\n",
    "```\n",
    "\n",
    "Vamos al código:  \n",
    "[Abrir HolaMundo.java](ejemplos/HolaMundo.java)"
   ]
  },
  {
   "cell_type": "code",
   "execution_count": null,
   "metadata": {},
   "outputs": [],
   "source": [
    "public class HolaMundo {\n",
    "    public static void main(String[] args) {\n",
    "        System.out.println(\"Hola Mundo!\");\n",
    "    }\n",
    "}"
   ]
  },
  {
   "cell_type": "markdown",
   "metadata": {},
   "source": [
    "Prueba del código:\n",
    "```bash\n",
    "javac HolaMundo.java\n",
    "```\n",
    "```bash\n",
    "java HolaMundo\n",
    "```\n",
    "\n",
    "Para tener en cuenta en java:\n",
    "1. El nombre del archivo **.java** debe ser igual al nombre de la estructura _class_ que se encuentra dentro de ella.\n",
    "2. El archivo **.java** sólo contiene el código fuente. Para generar el archivo que puede ejecutar la máquina virtual, es necesario pasarlo por el compilador usando el comando `javac <Clase>.java` que genera el archivo `<Clase>.class`.\n",
    "3. Para ejecutar la aplicación, usamos el comando `java <Clase>` el cual se encarga de iniciar la máquina virtual y ejecutar el archivo **.class** con el nombre `<Clase>`.\n",
    "4. Para que la clase se pueda ejecutar con el comando `java`, es necesario que incluya un método especial llamado `main` que debe ser publico (`public`) y estático (`static`)."
   ]
  },
  {
   "cell_type": "markdown",
   "metadata": {},
   "source": [
    "#### Recibiendo datos del usuario"
   ]
  },
  {
   "cell_type": "code",
   "execution_count": null,
   "metadata": {},
   "outputs": [],
   "source": [
    "import java.util.Scanner;\n",
    "\n",
    "var sc = new Scanner(System.in);\n",
    "System.out.print(\"Por favor ingrese su nombre\");\n",
    "var nombre = sc.nextLine();\n",
    "...\n",
    "sc.close();"
   ]
  },
  {
   "cell_type": "code",
   "execution_count": null,
   "metadata": {},
   "outputs": [],
   "source": [
    "import java.io.BufferedReader;\n",
    "import java.io.InputStreamReader;\n",
    "\n",
    "var br = new BufferedReader(new InputStreamReader(System.in));\n",
    "System.out.print(\"Por favor ingrese su nombre\");\n",
    "var nombre = br.readLine();\n",
    "...\n",
    "br.close();"
   ]
  },
  {
   "cell_type": "markdown",
   "metadata": {},
   "source": [
    "Vamos al código:  \n",
    "[Abrir HolaQuien.java](ejemplos/HolaQuien.java)"
   ]
  },
  {
   "cell_type": "code",
   "execution_count": null,
   "metadata": {},
   "outputs": [],
   "source": [
    "import java.util.Scanner;\n",
    "\n",
    "public class HolaQuien {\n",
    "    public static void main(String[] args) {\n",
    "        var sc = new Scanner(System.in);\n",
    "        System.out.print(\"Por favor ingrese su nombre: \");\n",
    "        var nombre = sc.nextLine();\n",
    "        \n",
    "        System.out.println(\"Hola \" + nombre + \"!\");\n",
    "        sc.close();\n",
    "    }\n",
    "}"
   ]
  },
  {
   "cell_type": "markdown",
   "metadata": {},
   "source": [
    "Prueba del código:\n",
    "```bash\n",
    "javac HolaQuien.java\n",
    "```\n",
    "```bash\n",
    "java HolaQuien\n",
    "```"
   ]
  },
  {
   "cell_type": "markdown",
   "metadata": {},
   "source": [
    "### Bloques de código\n",
    "- Un bloque de código es un grupo de sentencias que se comportan como una unidad.\n",
    "- Un bloque de código está limitado por las llaves de apertura `{` y cierre `}`."
   ]
  },
  {
   "cell_type": "code",
   "execution_count": null,
   "metadata": {},
   "outputs": [],
   "source": [
    "{\n",
    "    saludo=”Hola mundo”;\n",
    "    System.out.println(saludo);\n",
    "}"
   ]
  },
  {
   "cell_type": "markdown",
   "metadata": {},
   "source": [
    "### Estructuras de control"
   ]
  },
  {
   "cell_type": "markdown",
   "metadata": {},
   "source": [
    "#### sentencia `if`\n",
    "Simple"
   ]
  },
  {
   "cell_type": "code",
   "execution_count": null,
   "metadata": {},
   "outputs": [],
   "source": [
    "var numero = 10;\n",
    "if (numero >= 0) {\n",
    "    System.out.println(\"El número es positivo\");\n",
    "}"
   ]
  },
  {
   "cell_type": "code",
   "execution_count": null,
   "metadata": {},
   "outputs": [],
   "source": [
    "var numero = -10;\n",
    "if (numero >= 0) {\n",
    "    System.out.println(\"El número es positivo\");\n",
    "} else {\n",
    "    System.out.println(\"El número es negativo\");\n",
    "}"
   ]
  },
  {
   "cell_type": "markdown",
   "metadata": {},
   "source": [
    "En cascada"
   ]
  },
  {
   "cell_type": "code",
   "execution_count": null,
   "metadata": {},
   "outputs": [],
   "source": [
    "var a = -10;\n",
    "if (numero > 0) {\n",
    "    System.out.println(\"El número es positivo\");\n",
    "} else {\n",
    "    if (numero < 0) {\n",
    "        System.out.println(\"El número es negativo\");\n",
    "    } else {\n",
    "        System.out.println(\"El número es cero\");\n",
    "    }\n",
    "}"
   ]
  },
  {
   "cell_type": "code",
   "execution_count": null,
   "metadata": {},
   "outputs": [],
   "source": [
    "var numero = 0;\n",
    "if (numero > 0) {\n",
    "    System.out.println(\"El número es positivo\");\n",
    "} else if (numero < 0) {\n",
    "    System.out.println(\"El número es negativo\");\n",
    "} else {\n",
    "    System.out.println(\"El número es cero\");\n",
    "}"
   ]
  },
  {
   "cell_type": "markdown",
   "metadata": {},
   "source": [
    "#### sentencia `switch`\n",
    "Esta sentencia hace la comparación del valor de la _expresión_ y ejecuta el bloque para el _caso_ que tiene el valor exacto de la _expresión_ hasta la instrucción `break`. "
   ]
  },
  {
   "cell_type": "code",
   "execution_count": null,
   "metadata": {},
   "outputs": [],
   "source": [
    "var opcion = 9;\n",
    "switch (opcion) {\n",
    "    case 0:\n",
    "        System.out.println(\"Salir\");\n",
    "        break;\n",
    "    case 1:\n",
    "        System.out.println(\"Listar valores\");\n",
    "        break;\n",
    "    case 2:\n",
    "        System.out.println(\"consultar valor\");\n",
    "        break;\n",
    "    case 3:\n",
    "        System.out.println(\"agregar valor\");\n",
    "        break;\n",
    "    case 4:\n",
    "        System.out.println(\"modificar valor\");\n",
    "        break;\n",
    "    case 5:\n",
    "        System.out.println(\"eliminar valor\");\n",
    "        break;\n",
    "    default:\n",
    "        System.out.println(\"Opción inválida\");\n",
    "}"
   ]
  },
  {
   "cell_type": "code",
   "execution_count": null,
   "metadata": {},
   "outputs": [],
   "source": [
    "var letra = \"j\";\n",
    "switch (letra.toLowerCase()) {\n",
    "    case \"a\":\n",
    "    case \"e\":\n",
    "    case \"i\":\n",
    "    case \"o\":\n",
    "    case \"u\":\n",
    "        System.out.println(\"Es una vocal\");\n",
    "        break;\n",
    "    default:\n",
    "        System.out.println(\"Es una consonante\");\n",
    "}"
   ]
  },
  {
   "cell_type": "markdown",
   "metadata": {},
   "source": [
    "### Estructuras de repetición (ciclos)"
   ]
  },
  {
   "cell_type": "markdown",
   "metadata": {},
   "source": [
    "#### sentencia `while`"
   ]
  },
  {
   "cell_type": "code",
   "execution_count": null,
   "metadata": {},
   "outputs": [],
   "source": [
    "var numero = 5;\n",
    "var resultado = 1;\n",
    "while (numero > 1) {\n",
    "    resultado *= numero;\n",
    "    numero--;\n",
    "}\n",
    "System.out.println(resultado);"
   ]
  },
  {
   "cell_type": "markdown",
   "metadata": {},
   "source": [
    "#### sentencia `do-while`\n",
    "Se comporta igual a la sentencia `while`, solo que realiza por lo menos una vez las instrucciones antes de verificar la condición."
   ]
  },
  {
   "cell_type": "code",
   "execution_count": null,
   "metadata": {},
   "outputs": [],
   "source": [
    "var numero = 5;\n",
    "do {\n",
    "    System.out.println(numero);\n",
    "    numero--;\n",
    "} while (numero > 0);\n",
    "System.out.println(\"Boom!\");"
   ]
  },
  {
   "cell_type": "markdown",
   "metadata": {},
   "source": [
    "**Ojo**: Esta instrucción termina con **punto y coma** (;)"
   ]
  },
  {
   "cell_type": "markdown",
   "metadata": {},
   "source": [
    "#### sentencia `for`\n",
    "El ciclo `for` en Java es una simplificación del ciclo `while`, teniendo en cuenta que la inicialización del contador y el incremento se escribe en la definición del ciclo."
   ]
  },
  {
   "cell_type": "code",
   "execution_count": null,
   "metadata": {},
   "outputs": [],
   "source": [
    "for (var contador = 0; contador < 50; contador++) {\n",
    "    if (contador % 2 == 0){\n",
    "        System.out.println(contador + \" es un número par!\");\n",
    "    }\n",
    "    if (contador % 3 == 0){\n",
    "        System.out.println(contador + \" es múltiplo de 3!\");\n",
    "    }\n",
    "}"
   ]
  },
  {
   "cell_type": "markdown",
   "metadata": {},
   "source": [
    "#### sentencia `foreach`\n",
    "Esta sentencia es un caso especial del ciclo `for`, donde haremos el recorrido de cada elemento que se encuentra en una colección de datos (arrays, listas, conjuntos, etc.)"
   ]
  },
  {
   "cell_type": "code",
   "execution_count": null,
   "metadata": {},
   "outputs": [],
   "source": [
    "var frutas = new String[]{\n",
    "    \"Manzana\", \"Pera\", \"Naranja\", \"Mandarina\", \"Limon\"\n",
    "};\n",
    "for (var fruta : frutas) {\n",
    "    System.out.println(\"La fruta es: \"+ fruta);\n",
    "}"
   ]
  },
  {
   "cell_type": "markdown",
   "metadata": {},
   "source": [
    "#### sentencia `break`\n",
    "Es utilizada en la mayoría de los casos para interrumpir una ejecución de una estructura `switch` aunque también se puede utilizar para interrumpir estructuras de repetición."
   ]
  },
  {
   "cell_type": "markdown",
   "metadata": {},
   "source": [
    "#### sentencia `continue`\n",
    "Se utiliza para estructuras de repetición. Cuando se ejecuta, inmediatamente el resto de sentencias no se ejecutan y vuelve al comienzo de esta.\n"
   ]
  }
 ],
 "metadata": {
  "kernelspec": {
   "display_name": "Java",
   "language": "java",
   "name": "java"
  },
  "language_info": {
   "codemirror_mode": "java",
   "file_extension": ".jshell",
   "mimetype": "text/x-java-source",
   "name": "java",
   "pygments_lexer": "java",
   "version": "3.10.4"
  },
  "orig_nbformat": 4,
  "vscode": {
   "interpreter": {
    "hash": "81cc732b54fb8dad353717dada297a8871a0631e4af77db88445ed830b5a8ed8"
   }
  }
 },
 "nbformat": 4,
 "nbformat_minor": 2
}
