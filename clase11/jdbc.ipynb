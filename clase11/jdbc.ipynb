{
 "cells": [
  {
   "cell_type": "markdown",
   "metadata": {},
   "source": [
    "# JDBC - Java DataBase Connectivity"
   ]
  },
  {
   "cell_type": "markdown",
   "metadata": {},
   "source": [
    "Es una API que permite la ejecución de operaciones sobre bases de datos desde el lenguaje de programación Java, independientemente del sistema operativo donde se ejecute o de la base de datos a la cual se accede, utilizando el dialecto SQL del modelo de base de datos que se utilice."
   ]
  },
  {
   "cell_type": "markdown",
   "metadata": {},
   "source": [
    "## API JDBC\n",
    "| Clase | Descripción |\n",
    "|--|--|\n",
    "| java.sql.Connection | Representa una conexión a la base de datos. Abstrae el detalle de cómo comunicarse con el servidor de base de datos. |\n",
    "| java.sql.DriverManager | Administra los drivers JDBC usados por la aplicación. En conjunto con el URL y la autenticación apropiada, puede proveer aplicaciones con objetos Connection válidos. |\n",
    "|javax.sql.DataSource | Abstrae los detalles (URL, autenticación) de cómo obtener una conexión a la base de datos. Es el método preferido para obtener objetos Connection. |\n",
    "| java.sql.Statement | Provee métodos para que los desarrolladores puedan ejecutar sentencias SQL. |\n",
    "| java.sql.ResultSet | Representa los resultados de una sentencia SQL. Estos objetos son retornados usualmente por métodos del objeto Statement. |\n"
   ]
  },
  {
   "cell_type": "markdown",
   "metadata": {},
   "source": [
    "## java.sql.DriverManager\n",
    "\n",
    "Permite al desarrollador conseguir un objeto `Connection` la cual se puede usar para ejecutar actividades en la base de datos.\n",
    "\n",
    "Para establecer la conexión a la base de datos, se debe usar el método `getConnection()` dándole el URL JDBC, también con el usuario y contraseña para acceder a la base de datos si aplica.\n",
    "\n",
    "El URL debe seguir la sintaxis requerida por la implementación particular de la base de datos."
   ]
  },
  {
   "cell_type": "code",
   "execution_count": null,
   "metadata": {},
   "outputs": [],
   "source": [
    "var url = \"jdbc:<SGBD>:<database>\";\n",
    "String user = \"username\";\n",
    "String password = \"password\";\n",
    "Connection conn = null;\n",
    "try {\n",
    "    conn = DriverManager.getConnection(url, user, password);\n",
    "    ...\n",
    "} catch (SQLException e) {\n",
    "    // Manejo de los errores\n",
    "}"
   ]
  },
  {
   "cell_type": "markdown",
   "metadata": {},
   "source": [
    "## Cadenas de conexión JDBC\n",
    "| DBMS | URL |\n",
    "|--|--|\n",
    "| IBM DB2 | `jdbc:db2://<HOST>:<PORT>/<DB>` |\n",
    "| MySQL | `jdbc:mysql://<HOST>:<PORT>/<DB>` |\n",
    "| Postgresql | `jdbc:postgresql://<HOST>:<PORT>/<DB>` |\n",
    "| SQL Server | `jdbc:sqlserver://<HOST>\\<DB>:<PORT>` |\n",
    "| Oracle | `jdbc:oracle:thin:@<HOST>:<PORT>:<SID>` |\n",
    "| JDBC-ODBC Bridge | `jdbc:odbc:<DB>` |\n",
    "| **SQLite** | **`jdbc:sqlite:<FILE_PATH>`** |"
   ]
  },
  {
   "cell_type": "markdown",
   "metadata": {},
   "source": [
    "## Conectando JDBC a SQLite"
   ]
  },
  {
   "cell_type": "markdown",
   "metadata": {},
   "source": [
    "**pom.xml**\n",
    "```xml\n",
    "...\n",
    "<dependencies>\n",
    "    ...\n",
    "    <dependency>\n",
    "        <groupId>org.xerial</groupId>\n",
    "        <artifactId>sqlite-jdbc</artifactId>\n",
    "        <version>3.36.0.1</version>\n",
    "    </dependency>\n",
    "    ...\n",
    "</dependencies>\n",
    "...\n",
    "```"
   ]
  },
  {
   "cell_type": "markdown",
   "metadata": {},
   "source": [
    "Los objetos `java.sql.Connection` representa una conexión actual a la base de datos."
   ]
  },
  {
   "cell_type": "code",
   "execution_count": null,
   "metadata": {},
   "outputs": [],
   "source": [
    "var url = \"jdbc:sqlite:sample.db\";\n",
    "Connection conn = null;\n",
    "try {\n",
    "    conn = DriverManager.getConnection(url);\n",
    "} catch (SQLException e) {\n",
    "    // Manejo de los errores\n",
    "}"
   ]
  },
  {
   "cell_type": "markdown",
   "metadata": {},
   "source": [
    "Una vez tenemos la instancia de este objeto, podemos crear una instancia de `java.sql.Statement`, el cual nos permitirá ejecutar sentencias SQL."
   ]
  },
  {
   "cell_type": "code",
   "execution_count": null,
   "metadata": {},
   "outputs": [],
   "source": [
    "var url = \"jdbc:sqlite:sample.db\";\n",
    "Connection conn = null;\n",
    "Statement stmt = null;\n",
    "try {\n",
    "    conn = DriverManager.getConnection(url);\n",
    "    stmt = conn.createStatement();\n",
    "} catch (SQLException e) {\n",
    "    // Manejo de los errores\n",
    "}"
   ]
  },
  {
   "cell_type": "markdown",
   "metadata": {},
   "source": [
    "Los objetos `Statement` provee varios métodos para ejecutar SQL. Los dos más usados son:\n",
    "- **executeQuery**: Toma una sentencia SELECT y retorna el resultado de la operación como un objeto ResultSet.\n",
    "- **executeUpdate**: Toma una sentencia INSERT, UPDATE, o DELETE y retorna el número de filas afectadas por la operación."
   ]
  },
  {
   "cell_type": "code",
   "execution_count": null,
   "metadata": {},
   "outputs": [],
   "source": [
    "var url = \"jdbc:sqlite:sample.db\";\n",
    "Connection conn = null;\n",
    "Statement stmt = null;\n",
    "ResultSet rs = null;\n",
    "try {\n",
    "    conn = DriverManager.getConnection(url);\n",
    "    stmt = conn.createStatement();\n",
    "    rs = stmt.executeQuery(\"SELECT * FROM employees\");\n",
    "    while (rs.next()) {\n",
    "        int id = rs.getInt(\"employee_id\");\n",
    "        String nombre = rs.getString(\"first_name\");\n",
    "        String apellido = rs.getString(\"last_name\");\n",
    "        // Hacer algo con los datos leídos\n",
    "    }\n",
    "    rs.close();\n",
    "} catch (SQLException e) {\n",
    "    System.err.println(\"Un error mientras realiza la consulta \" + e);\n",
    "} finally {\n",
    "    try {\n",
    "        if (rs != null){\n",
    "            rs.close();\n",
    "        }\n",
    "        if (stmt != null) {\n",
    "            stmt.close();\n",
    "        }\n",
    "        if (conn != null){\n",
    "            conn.close();\n",
    "        }\n",
    "    } catch (SQLException e) {\n",
    "        System.err.println(e);\n",
    "    }\n",
    "}"
   ]
  },
  {
   "cell_type": "markdown",
   "metadata": {},
   "source": [
    "Los datos dentro de un objeto `java.sql.ResultSet` pueden ser mejor visualizados como una tabla. La información puede ser recuperada de a una fila a la vez, y el objeto `ResultSet` mantendrá el control de la fila actual.\n",
    "\n",
    "Para iterar por las filas, usamos el método next(), el\n",
    "cual mueve el apuntador de fila a la siguiente. Este\n",
    "método retorna true si existe una siguiente fila.\n",
    "```Java\n",
    "while (rs.next()) {\n",
    "    //Lee los datos de la fila actual\n",
    "}\n",
    "```\n",
    "\n",
    "Para obtener los datos de cada fila, el objeto `ResultSet` nos da varios métodos _get_ los cuales toman como parámetro el **indice** (empezando desde 1) de columna o el **nombre** de la columna.\n",
    "- El método `getString()` es para obtener un dato String\n",
    "- El método `getInt()` es para obtener un dato int\n",
    "- El método `getBoolean()` es para obtener un dato boolean.\n",
    "- etc.\n",
    "\n",
    "Es recomendado, sin embargo, usar los nombres de los campos en lugar de la posición en la fila"
   ]
  },
  {
   "cell_type": "markdown",
   "metadata": {},
   "source": [
    "### `java.sql.PreparedStatement`\n",
    "\n",
    "Es una subclase de `java.sql.Statement` y contiene una consulta pre-compilada y puede estar esperando algún(os) parámetro(s).\n",
    "```Java\n",
    "var sql = \"INSERT INTO GRADES (GRADE, MIN_SALARY, MAX_SALARY) VALUES ( ? , ? , ? )\";\n",
    "PreparedStatement pstmt = conn.prepareStatement(sql);\n",
    "```\n",
    "Para darle los valores a los parámetros que se definen en esta clase, usamos los métodos `setXXX()`, donde `XXX` es el tipo de dato que va a asignar. Los parámetros empiezan a contar desde 1.\n",
    "```Java\n",
    "pstmt.setString(1, \"G\");\n",
    "pstmt.setLong(2, 1);\n",
    "pstmt.setLong(3, 99999);\n",
    "pstmt.executeUpdate();\n",
    "```"
   ]
  },
  {
   "cell_type": "markdown",
   "metadata": {},
   "source": [
    " ### `java.sql.CallableStatement`\n",
    "\n",
    "Subclase de `java.sql.PreparedStatement`, la cual va a ayudar a hacer las llamadas a funciones y procedimientos almacenados de la base de datos.\n",
    "```Java\n",
    "CallableStatement cstmt = conn.prepareCall(\"{ call myProcedure(?) }\");\n",
    "```\n",
    "\n",
    "Al igual que el PreparedStatement, usamos los métodos `setXXX()` para asignar los parámetros. Los parámetros empiezan a contar desde 1.\n",
    "```Java\n",
    "cstmt.setString(1, \"Hola\");\n",
    "cstmt.executeUpdate();\n",
    "```\n",
    "\n",
    "Si lo que queremos es hacer el llamado a una función almacenada que retorna un valor, entonces lo creamos:\n",
    "```Java\n",
    "cstmt = conn.prepareCall(\"{ ? = call myFunction(?) }\");\n",
    "```\n",
    "\n",
    "Y debemos registrar qué parámetros serán de salida usando el método `registerOutParameter()`, antes de asignar valores a los parámetros y ejecutar el llamado.\n",
    "```Java\n",
    "cstmt.registerOutParameter(1, Type.INTEGER);\n",
    "cstmt.setString(2, \"Hola\");\n",
    "cstmt.excecuteUpdate();\n",
    "```\n",
    "\n",
    "Y para obtener el valor de los parámetros de salida, usamos el método `getXXX()`\n",
    "```Java\n",
    "int result = cstmt.getInt(1);\n",
    "```\n"
   ]
  }
 ],
 "metadata": {
  "kernelspec": {
   "display_name": "Java",
   "language": "java",
   "name": "java"
  },
  "language_info": {
   "name": "java",
   "version": "3.9.5"
  },
  "orig_nbformat": 4,
  "vscode": {
   "interpreter": {
    "hash": "aff35f7389d7e3d9eefdab8d6ee9cbeea8954c45d329bbe62fa514d288e678ef"
   }
  }
 },
 "nbformat": 4,
 "nbformat_minor": 2
}
