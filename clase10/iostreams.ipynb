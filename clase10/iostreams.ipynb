{
 "cells": [
  {
   "cell_type": "markdown",
   "metadata": {},
   "source": [
    "# Flujos de Entrada y Salida (I/O Streams)"
   ]
  },
  {
   "cell_type": "markdown",
   "metadata": {},
   "source": [
    "[I/O Streams - Java Tutorial](https://docs.oracle.com/javase/tutorial/essential/io/streams.html)\n",
    "\n",
    "- Los **streams** son flujos secuenciales de bytes.\n",
    "- Para que un programa pueda leer datos de alguna fuente, debe crear un **stream de entrada (InputStream)** conectado a ésta; una fuente típica puede ser el teclado o un fichero.\n",
    "![InputStream](https://docs.oracle.com/cd/E26537_01/tutorial/essential/io/streams_files/io-ins.gif)\n",
    "- Para escribir datos hacia un destino, debe crear un **stream de salida (OutputStream)** conectado a éste; un destino típico puede ser la pantalla o un fichero.\n",
    "![OutputStream](https://docs.oracle.com/cd/E26537_01/tutorial/essential/io/streams_files/io-outs.gif)\n",
    "- Java proporciona distintas clases para el manejo de estos flujos de información, todas ellas contenidas en el paquete `java.io` \n",
    "\n"
   ]
  },
  {
   "cell_type": "markdown",
   "metadata": {},
   "source": [
    "## Flujos básicos\n",
    "\n",
    "Los atributos **in**, **out** y **err** son variables estáticas de la clase **System**, y se han inicializado previamente con flujos de entrada y salida, respectivamente.\n",
    "\n",
    "|Campo de clase System | Descripción |\n",
    "|--|--|\n",
    "| static PrintStream err | El flujo de salida de error estándar. |\n",
    "| static InputStream in | El flujo de entrada estándar. |\n",
    "| static PrintStream out | El flujo de salida estándar. |"
   ]
  },
  {
   "cell_type": "markdown",
   "metadata": {},
   "source": [
    "Ejemplo: [IOEstandar1](assets/IOEstandar1.java)"
   ]
  },
  {
   "cell_type": "code",
   "execution_count": null,
   "metadata": {},
   "outputs": [],
   "source": [
    "int numBytes = 0;\n",
    "char caracter;\n",
    "System.out.println(\"\\nEscribe el texto: \");\n",
    "try {\n",
    "    do {\n",
    "        caracter = (char)System.in.read();\n",
    "        System.out.print(caracter);\n",
    "        numBytes++;\n",
    "    } while (caracter != '\\n');\n",
    "    System.err.printf(\"%d bytes leidos %n\", numBytes);\n",
    "} catch (IOException e) {\n",
    "    System.err.println(e);\n",
    "}"
   ]
  },
  {
   "cell_type": "markdown",
   "metadata": {},
   "source": [
    "Ejemplo: [IOEstandar2](assets/IOEstandar2.java)"
   ]
  },
  {
   "cell_type": "code",
   "execution_count": null,
   "metadata": {},
   "outputs": [],
   "source": [
    "byte[] buffer = new byte[255];\n",
    "System.out.print(\"Escribe el texto: \");\n",
    "try {\n",
    "    System.in.read(buffer, 0, 255);\n",
    "} catch (IOException e) {\n",
    "    System.err.println(e);\n",
    "}\n",
    "System.out.print(\"\\nLa linea escrita es: \");\n",
    "System.out.println(new String(buffer));"
   ]
  },
  {
   "cell_type": "markdown",
   "metadata": {},
   "source": [
    "## Flujos de Entrada - `java.io`\n",
    "![Paquete java.io](https://mcaenerjiyazilim.files.wordpress.com/2012/04/12fig01.gif)"
   ]
  },
  {
   "cell_type": "markdown",
   "metadata": {},
   "source": [
    "Ejemplo: [EntradaSalida1](assets/EntradaSalida1.java)"
   ]
  },
  {
   "cell_type": "code",
   "execution_count": null,
   "metadata": {},
   "outputs": [],
   "source": [
    "String línea = null;\n",
    "try {\n",
    "    var entrada = new BufferedReader(new InputStreamReader(System.in));\n",
    "    var salida = new PrintWriter(System.out, true);\n",
    "\n",
    "    salida.println(\"Escribe el texto: \");\n",
    "    línea = entrada.readLine();\n",
    "\n",
    "    salida.print(\"La linea escrita es: \");\n",
    "    salida.println(línea);\n",
    "\n",
    "    entrada.close();\n",
    "    salida.close();\n",
    "} catch (IOException e) {\n",
    "    System.err.println(e);\n",
    "}"
   ]
  },
  {
   "cell_type": "markdown",
   "metadata": {},
   "source": [
    "# Gestión de Archivos"
   ]
  },
  {
   "cell_type": "markdown",
   "metadata": {},
   "source": [
    "## Clase **File**\n",
    "- La clase File sirve para representar ficheros o directorios en el sistema de ficheros de la plataforma específica.\n",
    "- Mediante esta clase pueden abstraerse las particularidades de cada sistema de ficheros y proporcionar los métodos necesarios para obtener información sobre los mismos."
   ]
  },
  {
   "cell_type": "code",
   "execution_count": null,
   "metadata": {},
   "outputs": [],
   "source": [
    "var f = new File(\"assets\\\\prueba.txt\");\n",
    "System.out.println(\"pathSeparator: \"+File.pathSeparator);\n",
    "System.out.println(\"separator: \" + File.separator);\n",
    "System.out.println(\"separatorChar: \"+File.separatorChar);\n",
    "System.out.println(\"canRead(): \" + f.canRead());\n",
    "System.out.println(\"canWrite(): \" + f.canWrite());\n",
    "System.out.println(\"exists(): \" + f.exists());\n",
    "System.out.println(\"getName(): \" + f.getName());\n",
    "System.out.println(\"getParent(): \" + f.getParent());\n",
    "System.out.println(\"isDirectory(): \" + f.isDirectory());\n",
    "System.out.println(\"isFile(): \" + f.isFile());\n",
    "System.out.println(\"length(): \" + f.length());"
   ]
  },
  {
   "cell_type": "markdown",
   "metadata": {},
   "source": [
    "## Escribir archivo de texto\n",
    "Ejemplo: [EscribirArchivoTexto](assets/EscribirArchivoTexto.java)"
   ]
  },
  {
   "cell_type": "code",
   "execution_count": null,
   "metadata": {},
   "outputs": [],
   "source": [
    "int[][] numeros = { { 1, 2, 3, 4, 5 },\n",
    "                { 6, 7, 8, 9, 10 },\n",
    "                { 11, 12, 13, 14, 15 },\n",
    "                { 16, 17, 18, 19, 20 },\n",
    "                { 21, 22, 23, 24, 25 } };\n",
    "var archivo = \"assets\\\\Numeros.txt\";\n",
    "try {\n",
    "    var salida = new PrintWriter(archivo);\n",
    "    for (int i = 0; i < numeros.length; i++) {\n",
    "        for (int j = 0; j < numeros[i].length; j++) {\n",
    "            if (j != 0) {\n",
    "                salida.print(\",\");\n",
    "            }\n",
    "            salida.print(numeros[i][j]);\n",
    "        }\n",
    "        salida.println(\"\");\n",
    "    }\n",
    "    salida.close();\n",
    "} catch (IOException ex) {\n",
    "    System.err.println(ex);\n",
    "}"
   ]
  },
  {
   "cell_type": "markdown",
   "metadata": {},
   "source": [
    "## Leer archivo de texto\n",
    "Ejemplo: [LeerArchivoTexto](assets/LeerArchivoTexto.java)"
   ]
  },
  {
   "cell_type": "code",
   "execution_count": null,
   "metadata": {},
   "outputs": [],
   "source": [
    "String nombre = \"assets\\\\Numeros.txt\";\n",
    "var archivo = new File(nombre);\n",
    "if (archivo.exists()) {\n",
    "    try {\n",
    "        var lector = new Scanner(archivo);\n",
    "        System.out.println(\"Numeros del archivo:\");\n",
    "        while (lector.hasNext()) {\n",
    "            var numeros = new StringTokenizer(lector.next(), \",\");\n",
    "            while (numeros.hasMoreTokens()) {\n",
    "                System.out.print(numeros.nextToken() + \"\\t\");\n",
    "            }\n",
    "            System.out.println(\"\");\n",
    "        }\n",
    "        lector.close();\n",
    "    } catch (IOException ex) {\n",
    "        System.err.println(ex);\n",
    "    }\n",
    "} else {\n",
    "    System.out.println(\"¡El fichero no existe!\");\n",
    "}"
   ]
  },
  {
   "cell_type": "markdown",
   "metadata": {},
   "source": [
    "# Serialización de Objetos\n",
    "**_La serialización consiste en la transformación de un objeto Java en una secuencia de bytes para ser enviados a un stream._**"
   ]
  },
  {
   "cell_type": "markdown",
   "metadata": {},
   "source": [
    "- Sólo los objetos de clases que implementen la interface `java.io.Serializable` o aquellos que pertenezcan a subclases de clases serializables pueden ser serializados.\n",
    "- La interface Serializable no posee ningún método. Sólo sirve para **marcar** las clases que pueden ser serializadas.\n",
    "- Cuando un objeto es serializado, también lo son todos los objetos alcanzables desde éste (los atributos que son objetos), ignorándose todos los atributos **_static_**, **_transient_** y los no serializables.\n",
    "\n",
    "Los atributos **transient** sirven para demarcar el carácter temporal o transitorio de dicha variable, es decir, estamos indicando es que en caso de que serialicemos el objeto que contiene esa variable, su valor no se serializará."
   ]
  },
  {
   "cell_type": "markdown",
   "metadata": {},
   "source": [
    "Ejemplo: [Persona](assets/Persona.java)"
   ]
  },
  {
   "cell_type": "code",
   "execution_count": null,
   "metadata": {},
   "outputs": [],
   "source": [
    "import java.io.Serializable;\n",
    "\n",
    "public class Persona implements Serializable {\n",
    "    private String dni;\n",
    "    private String nombres;\n",
    "    private String apellidos;\n",
    "\n",
    "    public Persona(String dni, String nombres, String apellidos) {\n",
    "        this.dni = dni;\n",
    "        this.nombres = nombres;\n",
    "        this.apellidos = apellidos;\n",
    "    }\n",
    "\n",
    "    public String getDni() {\n",
    "        return dni;\n",
    "    }\n",
    "\n",
    "    public String getNombres() {\n",
    "        return nombres;\n",
    "    }\n",
    "\n",
    "    public String getApellidos() {\n",
    "        return apellidos;\n",
    "    }\n",
    "\n",
    "    @Override\n",
    "    public String toString() {\n",
    "        return dni + \"\\t\" + nombres + \" \" + apellidos;\n",
    "    }\n",
    "}"
   ]
  },
  {
   "cell_type": "markdown",
   "metadata": {},
   "source": [
    "Ejemplo: [EscribirArchivoObjeto](assets/EscribirArchivoObjeto.java)"
   ]
  },
  {
   "cell_type": "code",
   "execution_count": null,
   "metadata": {},
   "outputs": [],
   "source": [
    "var nombre = \"assets\\\\Objetos.dat\";\n",
    "try {\n",
    "    var oos = new ObjectOutputStream(new FileOutputStream(nombre));\n",
    "    oos.writeObject(new Persona(\"552871883\", \"María\", \"Ruiz Ramos\"));\n",
    "    oos.writeObject(new Persona(\"403020104\", \"Juan\", \"González López\"));\n",
    "    oos.close();\n",
    "} catch (FileNotFoundException e) {\n",
    "    System.out.println(\"¡El fichero no existe!\");\n",
    "} catch (IOException e) {\n",
    "    System.out.println(e.getMessage());\n",
    "} catch (Exception e) {\n",
    "    System.out.println(e.getMessage());\n",
    "}"
   ]
  },
  {
   "cell_type": "markdown",
   "metadata": {},
   "source": [
    "Ejemplo: [LeerArchivoObjeto](assets/LeerArchivoObjeto.java)"
   ]
  },
  {
   "cell_type": "code",
   "execution_count": null,
   "metadata": {},
   "outputs": [],
   "source": [
    "var nombre = \"assets\\\\Objetos.dat\";\n",
    "try {\n",
    "    var ois = new ObjectInputStream(new FileInputStream(nombre));\n",
    "    var p1 = (Persona) ois.readObject();\n",
    "    var p2 = (Persona) ois.readObject();\n",
    "    ois.close();\n",
    "\n",
    "    System.out.println(\"Cedula\\t\\tNombre Completo\");\n",
    "    System.out.println(p1);\n",
    "    System.out.println(p2);\n",
    "} catch (FileNotFoundException e) {\n",
    "    System.out.println(\"¡El fichero no existe!\");\n",
    "} catch (IOException e) {\n",
    "    System.out.println(e.getMessage());\n",
    "} catch (Exception e) {\n",
    "    System.out.println(e.getMessage());\n",
    "}"
   ]
  },
  {
   "cell_type": "markdown",
   "metadata": {},
   "source": [
    "# try-with-resources\n",
    "[Java Tutorial](https://docs.oracle.com/javase/tutorial/essential/exceptions/tryResourceClose.html)"
   ]
  },
  {
   "cell_type": "code",
   "execution_count": null,
   "metadata": {},
   "outputs": [],
   "source": [
    "var nombre = \"assets\\\\Objetos.dat\";\n",
    "try (var oos = new ObjectOutputStream(new FileOutputStream(nombre))) {\n",
    "    oos.writeObject(new Persona(\"552871883\", \"María\", \"Ruiz Ramos\"));\n",
    "    oos.writeObject(new Persona(\"403020104\", \"Juan\", \"González López\"));\n",
    "} catch (FileNotFoundException e) {\n",
    "    System.out.println(\"¡El fichero no existe!\");\n",
    "} catch (IOException e) {\n",
    "    System.out.println(e.getMessage());\n",
    "} catch (Exception e) {\n",
    "    System.out.println(e.getMessage());\n",
    "}"
   ]
  },
  {
   "cell_type": "code",
   "execution_count": null,
   "metadata": {},
   "outputs": [],
   "source": [
    "var nombre = \"assets\\\\Objetos.dat\";\n",
    "try (var ois = new ObjectInputStream(new FileInputStream(nombre))) {\n",
    "    var p1 = (Persona) ois.readObject();\n",
    "    var p2 = (Persona) ois.readObject();\n",
    "\n",
    "    System.out.println(\"Cedula\\t\\tNombre Completo\");\n",
    "    System.out.println(p1);\n",
    "    System.out.println(p2);\n",
    "} catch (FileNotFoundException e) {\n",
    "    System.out.println(\"¡El fichero no existe!\");\n",
    "} catch (IOException e) {\n",
    "    System.out.println(e.getMessage());\n",
    "} catch (Exception e) {\n",
    "    System.out.println(e.getMessage());\n",
    "}"
   ]
  },
  {
   "cell_type": "markdown",
   "metadata": {},
   "source": [
    "# Java NIO.2\n",
    "\n",
    "[Java Tutorial](https://docs.oracle.com/javase/tutorial/essential/io/fileio.html)"
   ]
  },
  {
   "cell_type": "markdown",
   "metadata": {},
   "source": [
    "- Entre las mejoras se incluyen permitir navegación de directorios sencillo, soporte para reconocer enlaces simbólicos, leer atributos de ficheros como permisos e información como última fecha de modificación, soporte de entrada/salida asíncrona y soporte para operaciones básicas sobre ficheros como copiar y mover ficheros.\n",
    "- Las clases principales de esta nueva API para el manejo de rutas, ficheros y operaciones de entrada/salida son las siguientes:\n",
    "  - **Path**: es una abstracción sobre una ruta de un sistema de ficheros. Puede usarse como reemplazo completo de java.io.File pero si fuera necesario con los métodos File.toPath() y Path.toFile() se ofrece compatibilidad.\n",
    "  - **Files**: es una clase de utilidad con operaciones básicas sobre ficheros.\n",
    "  - **FileSystems**: otra clase de utilidad como punto de entrada para obtener referencias a sistemas de archivos."
   ]
  },
  {
   "cell_type": "markdown",
   "metadata": {},
   "source": [
    "#### Crea un archivo vacío si aún no existe"
   ]
  },
  {
   "cell_type": "code",
   "execution_count": null,
   "metadata": {},
   "outputs": [],
   "source": [
    "Path archivo = Paths.get(\"/examples/emptyFile.txt\");\n",
    "if (Files.notExists(archivo)) {\n",
    "    archivo = Files.createFile(Paths.get(\"/examples/emptyFile.txt\"));\n",
    "}"
   ]
  },
  {
   "cell_type": "markdown",
   "metadata": {},
   "source": [
    "#### Lee todo el contenido de un archivo de texto a una cadena"
   ]
  },
  {
   "cell_type": "code",
   "execution_count": null,
   "metadata": {},
   "outputs": [],
   "source": [
    "var contenido = new String(Files.readAllBytes(Paths.get(\"/examples/sampleText.txt\")), \n",
    "                            StandardCharsets.UTF_8);"
   ]
  },
  {
   "cell_type": "markdown",
   "metadata": {},
   "source": [
    "#### Lee el contenido de un archivo de texto linea por linea"
   ]
  },
  {
   "cell_type": "code",
   "execution_count": null,
   "metadata": {},
   "outputs": [],
   "source": [
    "var lineas = Files.readAllLines(Paths.get(\"/examples/sampleText.txt\"), StandardCharsets.UTF_8);"
   ]
  },
  {
   "cell_type": "markdown",
   "metadata": {},
   "source": [
    "#### Escribe un String en un archivo de texto, sobreescribe si ya existe"
   ]
  },
  {
   "cell_type": "code",
   "execution_count": null,
   "metadata": {},
   "outputs": [],
   "source": [
    "var text = \"Esto es una cadena de prueba\";\n",
    "Files.write(Paths.get(\"/examples/writeText.txt\"), text.getBytes(StandardCharsets.UTF_8), \n",
    "                StandardOpenOption.CREATE, StandardOpenOption.TRUNCATE_EXISTING);"
   ]
  },
  {
   "cell_type": "markdown",
   "metadata": {},
   "source": [
    "#### Escribe una lista de String en un archivo, sobreescribe si ya existe"
   ]
  },
  {
   "cell_type": "code",
   "execution_count": null,
   "metadata": {},
   "outputs": [],
   "source": [
    "var textLines = Arrays.asList(\"Línea 1\", \"Línea 2\", \"Línea 3\");\n",
    "Files.write(Paths.get(\"/examples/writeText.txt\"), textLines, StandardCharsets.UTF_8,\n",
    "                StandardOpenOption.CREATE, StandardOpenOption.TRUNCATE_EXISTING);"
   ]
  },
  {
   "cell_type": "markdown",
   "metadata": {},
   "source": [
    "#### Crear una estructura de directorios de forma recursiva"
   ]
  },
  {
   "cell_type": "code",
   "execution_count": null,
   "metadata": {},
   "outputs": [],
   "source": [
    "Files.createDirectories(Paths.get(\"/examples/level1/level2/level3\"));"
   ]
  },
  {
   "cell_type": "markdown",
   "metadata": {},
   "source": [
    "#### Lista recursiva con los ficheros contenidos en un directorio"
   ]
  },
  {
   "cell_type": "code",
   "execution_count": null,
   "metadata": {},
   "outputs": [],
   "source": [
    "List<Path> files = Files.walk(Paths.get(\"/examples\"))\n",
    "                        .filter(Files::isRegularFile)\n",
    "                        .map(x -> x.toAbsolutePath())\n",
    "                        .collect(Collectors.toList());\n",
    "for (Path file : files) {\n",
    "    System.out.println(\"Ruta del fichero: \".concat(file.toString()));\n",
    "}"
   ]
  },
  {
   "cell_type": "markdown",
   "metadata": {},
   "source": [
    "#### Mueve un directorio con todo su contenido"
   ]
  },
  {
   "cell_type": "code",
   "execution_count": null,
   "metadata": {},
   "outputs": [],
   "source": [
    "Files.move(Paths.get(\"/examples/source_dir\"), Paths.get(\"/examples/dest_dir\"),\n",
    "                StandardCopyOption.REPLACE_EXISTING);"
   ]
  }
 ],
 "metadata": {
  "kernelspec": {
   "display_name": "Java",
   "language": "java",
   "name": "java"
  },
  "language_info": {
   "codemirror_mode": "java",
   "file_extension": ".jshell",
   "mimetype": "text/x-java-source",
   "name": "java",
   "pygments_lexer": "java",
   "version": "17.0.1+12"
  },
  "orig_nbformat": 4,
  "vscode": {
   "interpreter": {
    "hash": "aff35f7389d7e3d9eefdab8d6ee9cbeea8954c45d329bbe62fa514d288e678ef"
   }
  }
 },
 "nbformat": 4,
 "nbformat_minor": 2
}
