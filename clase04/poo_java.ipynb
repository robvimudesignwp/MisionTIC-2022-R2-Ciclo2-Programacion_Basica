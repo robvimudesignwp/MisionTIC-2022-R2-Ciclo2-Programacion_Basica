{
 "cells": [
  {
   "cell_type": "markdown",
   "metadata": {},
   "source": [
    "# Programación Orientada a Objetos en Java"
   ]
  },
  {
   "cell_type": "markdown",
   "metadata": {},
   "source": [
    "## Ejercicios Modelado Objeto"
   ]
  },
  {
   "cell_type": "markdown",
   "metadata": {},
   "source": [
    "### Ajedrez\n",
    "El ajedrez es un juego entre dos contrincantes en el que cada uno dispone al inicio de 16 piezas móviles que se colocan sobre un tablero,​ dividido en 64 casillas o escaques.​  \n",
    "Se juega sobre un tablero cuadriculado de 8×8 casillas, alternadas en colores blanco y negro, que constituyen las 64 posibles posiciones de las piezas para el desarrollo del juego.  \n",
    "Al principio del juego cada jugador tiene dieciséis piezas: un rey, una dama, dos alfiles, dos caballos, dos torres y ocho peones. Se trata de un juego de estrategia en el que el objetivo es _derrocar_ al rey del oponente. Esto se hace amenazando la casilla que ocupa el rey con alguna de las piezas propias sin que el otro jugador pueda proteger a su rey interponiendo una pieza entre su rey y la pieza que lo amenaza, mover su rey a un escaque libre o capturar a la pieza que lo está amenazando, lo que trae como resultado el jaque mate y el fin de la partida.\n",
    "\n",
    "[Leer resto de reglas](https://es.wikipedia.org/wiki/Ajedrez)"
   ]
  },
  {
   "cell_type": "markdown",
   "metadata": {},
   "source": [
    "![Modelo clases - Ajedrez](https://www.plantuml.com/plantuml/png/ZPBRJi9048RlzoaclVAGDcYC5ruOQgD6eq2G5vXk1rZT0-x1WuHtjmSM9HZ3LMTsll-VIVxsdKVhWvBClGYzG8iAk4JdSk-jA8EdEsxqa_WYw37MJc22fIHhOCcEWRGrhu4E3klw6RUgH_HDjugo0fsG4cjP2bCXiVvm8uFIsFWuZqCU5bXXfo4T51H66biBhXxoGJ5aW-lRyV37y3xCi6hdAMYZIalD34ldBN8F7NGZ-1pRKxbHPDlpbf5PWJ9lP7zVEIAZWJuywUfFSLJ4jroEq9brRut6BRU9iPPsxNRN5bYYb6OVD9TJ8VS1noGqxWT-_e_5n9EJ18xIohph59BpioHcocAsII_BQYQrOZRtQSDtXXVW24ZpGDfRh2iMmqjEQrpIT4slDx7DF6kjiilkNzWioi9YyzQTdCKUM9zq5PJy1W00)\n",
    "\n",
    "[ver fuente diagrama](https://www.plantuml.com/plantuml/umla/PL2zJWCn3Dxp5DPDK7HLMIk6yiF0Wf3w1BwSAH59N3aE0wNlJabpGHnBzDd-Vkniag9e3jwaTnVtA1Z0UapfLbNSa9MUBCUj-oHO6OD3Ka6hPmgya2IE20S3q4FaC0WLI2EE9t05XqbnXC0_I2ukpT6Oi_unx3tXoDKWPV8ZtqbMBkAcA9L5RxD7sUBfSVnCoZCleJJRfKtllQEeLATAdbuvpbCQ-y49MNKVqs8MbNOi3lyBfY-u-UhxTi_VRiqsxThkUhbSTD2BsxrflpZLtRJ-6gYoagcjCkPAXcvLjDLp3VOCKdClcRyNc8QAJzyS6dyDAGyieuibTKDnpC5_0m00)"
   ]
  },
  {
   "cell_type": "markdown",
   "metadata": {},
   "source": [
    "### Empleados de una empresa\n",
    "- Una aplicación necesita almacenar información sobre empresas, sus empleados y sus clientes. Ambos se caracterizan por su nombre y edad.\n",
    "- Los empleados tienen un sueldo bruto, los empleados que son directivos tienen una categoría, así como un conjunto de empleados subordinados.\n",
    "- De los clientes además se necesita conocer su teléfono de contacto.\n",
    "- La aplicación necesita mostrar los datos de empleados y clientes"
   ]
  },
  {
   "cell_type": "markdown",
   "metadata": {},
   "source": [
    "![Modelo clases - Empleados de una empresa](https://www.plantuml.com/plantuml/png/PL2zJWCn3Dxp5DPDK7HLMIk6yiF0Wf3w1BwSAH59N3aE0wNlJabpGHnBzDd-Vkniag9e3jwaTnVtA1Z0UapfLbNSa9MUBCUj-oHO6OD3Ka6hPmgya2IE20S3q4FaC0WLI2EE9t05XqbnXC0_I2ukpT6Oi_unx3tXoDKWPV8ZtqbMBkAcA9L5RxD7sUBfSVnCoZCleJJRfKtllQEeLATAdbuvpbCQ-y49MNKVqs8MbNOi3lyBfY-u-UhxTi_VRiqsxThkUhbSTD2BsxrflpZLtRJ-6gYoagcjCkPAXcvLjDLp3VOCKdClcRyNc8QAJzyS6dyDAGyieuibTKDnpC5_0m00)  \n",
    "\n",
    "[ver fuente diagrama](https://www.plantuml.com/plantuml/umla/PL2zJWCn3Dxp5DPDK7HLMIk6yiF0Wf3w1BwSAH59N3aE0wNlJabpGHnBzDd-Vkniag9e3jwaTnVtA1Z0UapfLbNSa9MUBCUj-oHO6OD3Ka6hPmgya2IE20S3q4FaC0WLI2EE9t05XqbnXC0_I2ukpT6Oi_unx3tXoDKWPV8ZtqbMBkAcA9L5RxD7sUBfSVnCoZCleJJRfKtllQEeLATAdbuvpbCQ-y49MNKVqs8MbNOi3lyBfY-u-UhxTi_VRiqsxThkUhbSTD2BsxrflpZLtRJ-6gYoagcjCkPAXcvLjDLp3VOCKdClcRyNc8QAJzyS6dyDAGyieuibTKDnpC5_0m00)"
   ]
  },
  {
   "cell_type": "markdown",
   "metadata": {},
   "source": [
    "### Gestión de biblioteca\n",
    "- Una biblioteca tiene copias de libros. Estos últimos se caracterizan por su nombre, tipo (novela, teatro, poesía, ensayo), editorial, año y autor.\n",
    "- Los autores se caracterizan por su nombre, nacionalidad y fecha de nacimiento.\n",
    "- Cada copia tiene un identificador, y puede estar en la biblioteca, prestada, con retraso o en reparación.\n",
    "- Los lectores pueden tener un máximo de 3 libros en préstamo.\n",
    "- Cada libro se presta un máximo de 30 días, por cada día de retraso, se impone una multa de dos días sin posibilidad de pedir un nuevo libro.\n",
    "- Realiza un diagrama de clases y añade los métodos necesarios para realizar el préstamo y devolución de libros."
   ]
  },
  {
   "cell_type": "markdown",
   "metadata": {},
   "source": [
    "![Modelo clases - Gestión de biblioteca](https://www.plantuml.com/plantuml/png/PL9TRvmm47pthrZTKzBMA7rDf2hEbKf8v3W1gjH77zvSjlK7yfbKQjN_NcEu47AFExip33E-FmNfms0qE_qYsqil3NHQdauY14-78M3HETlG7uGRnj86Iko2y_2N0N0edJs27GnwrxYEN0ARo1rXPmuU4rBOW4Vq453ZaxEhCqKUkqYr4Vm82b-SVa5_TPt6tcEqU9xCeAVXtzdCuuZCNhxAWF24tRCiB4N1ktVeDx9ItotSVT8sxYsTBfZlI5lNatpxywJ69SOC88zoofqlzdNUjEAnOdNUrgAfs4FnK1PLcsz5XFQY5jkYsYtA9Hryyh944oWCUXKMAehXazIhMALrhoPQwjrPQbTzpql1sboqTSNsLTuKWkMxHloebk-AOQxpehW5a6C_KfEIYgqotSMD8RGX6PX-FOiTX-pBAevvnPNxRVdyXDXh0Pp3LJhuDA-ksVpADfytm3qTdmE7pKsMnJ5LVZkzXKasNd7-OJcCf2dDMy2VQ7ejFPiYoSQBw6r9QLvmFkN0xj6gmUZ_)\n",
    "\n",
    "[ver fuente diagrama](https://www.plantuml.com/plantuml/umla/PL2zJWCn3Dxp5DPDK7HLMIk6yiF0Wf3w1BwSAH59N3aE0wNlJabpGHnBzDd-Vkniag9e3jwaTnVtA1Z0UapfLbNSa9MUBCUj-oHO6OD3Ka6hPmgya2IE20S3q4FaC0WLI2EE9t05XqbnXC0_I2ukpT6Oi_unx3tXoDKWPV8ZtqbMBkAcA9L5RxD7sUBfSVnCoZCleJJRfKtllQEeLATAdbuvpbCQ-y49MNKVqs8MbNOi3lyBfY-u-UhxTi_VRiqsxThkUhbSTD2BsxrflpZLtRJ-6gYoagcjCkPAXcvLjDLp3VOCKdClcRyNc8QAJzyS6dyDAGyieuibTKDnpC5_0m00)"
   ]
  },
  {
   "cell_type": "markdown",
   "metadata": {},
   "source": [
    "## POO en Java"
   ]
  },
  {
   "cell_type": "markdown",
   "metadata": {},
   "source": [
    "### Clase\n",
    "```\n",
    "<modificador> class <Nombre> {\n",
    "    <atributos>\n",
    "    <constructores>\n",
    "    <métodos>\n",
    "}\n",
    "```"
   ]
  },
  {
   "cell_type": "markdown",
   "metadata": {},
   "source": [
    "#### Modificador\n",
    "- **public**: Visible para todas las clases.\n",
    "- **final**: Ultima definición de clase. No podrá tener subclases.\n",
    "- **_sin modificador_**: Solo visible por clases del paquete.\n",
    "\n",
    "#### Nombre\n",
    "- Los nombres de clase deben **comenzar con una letra mayúscula**.\n",
    "- El nombre del archivo de la clase debe tener el mismo nombre de la clase pública.\n",
    "- Piensa en un nombre apropiado para su clase. **No se limite** a llamar su clase XYZ, sigla o cualquier nombre al azar."
   ]
  },
  {
   "cell_type": "code",
   "execution_count": null,
   "metadata": {},
   "outputs": [],
   "source": [
    "public final class MiPrimerClase {\n",
    "\n",
    "}"
   ]
  },
  {
   "cell_type": "markdown",
   "metadata": {},
   "source": [
    "#### Atributos\n",
    "`<modificador> <tipo> <nombre> [= <valor x defecto>];`"
   ]
  },
  {
   "cell_type": "markdown",
   "metadata": {},
   "source": [
    "- Declarar todas las variables de instancia en la parte superior de la declaración de clase.\n",
    "- Declare una variable por cada línea.\n",
    "- Las variables de instancia, igual que cualquier otra variable, deben **comenzar con letra minúscula**.\n",
    "- Las constantes (_final_) deben ser nombradas en **mayúscula sostenida**.\n",
    "- Utilice un tipo de dato adecuado para cada variable. Se recomienda el uso de **clases wrapper** en lugar de tipos básicos.\n",
    "- Declarar las variables de instancia como **private** de modo que sólo los métodos de clase puedan acceder a ellos directamente.\n",
    "\n",
    "##### Modificador\n",
    "- **public**:Pueden ser modificados por un objeto externo.\n",
    "- **private**: Sólo son accesibles dentro de la clase. (Recomendado)\n",
    "- **protected**: Público para paquete e hijas, privado para los demás.\n",
    "- **final**: Solo puede tener 1 valor (constante).\n",
    "- **static**: Compartido por todos los objetos. Si un objeto cambia el valor, todos verán el cambio. También es llamada _variable de clase_.\n",
    "- **_sin modificador_**: Solo visible por clases del paquete."
   ]
  },
  {
   "cell_type": "code",
   "execution_count": null,
   "metadata": {},
   "outputs": [],
   "source": [
    "public final class MiPrimerClase {\n",
    "    private static final Double PI = 3.1416;\n",
    "    private Integer contador = 0;\n",
    "}  "
   ]
  },
  {
   "cell_type": "markdown",
   "metadata": {},
   "source": [
    "#### Métodos\n",
    "```\n",
    "<modificador> <tipo retorno> <nombre> (<parametro>*) {\n",
    "    <sentencia>*\n",
    "}\n",
    "```"
   ]
  },
  {
   "cell_type": "markdown",
   "metadata": {},
   "source": [
    "##### Modificador:\n",
    "- **public**: Pueden ser llamados por un objeto externo.\n",
    "- **private**: Sólo son accesibles dentro de la clase. \n",
    "- **protected**: Público para paquete e hijas, privado para los demás.\n",
    "- **final**: Última definición. No podrá ser reescrita (overwrite)\n",
    "- **static**: Pueden ser llamados sin necesidad de crear instancia de la clase. Solo puede usar atributos static.\n",
    "- **_sin modificador_**: Solo visible por clases del paquete.\n",
    "\n",
    "##### Tipo de retorno \n",
    "Puede ser cualquier tipo de datos, incluyendo `void` en caso de no devolver un valor.\n",
    "\n",
    "##### Nombre de método:\n",
    "- Los nombres reflejan los comportamientos, por lo tanto deben empezar con una acción (**verbo**).\n",
    "- Los nombres de métodos deben **comenzar con letra minúscula**.\n",
    "\n",
    "##### Parámetros\n",
    "Es una lista de declaraciones de variables (separados por coma)  que determina la información que necesita para su ejecución."
   ]
  },
  {
   "cell_type": "code",
   "execution_count": null,
   "metadata": {},
   "outputs": [],
   "source": [
    "public final class MiPrimerClase {\n",
    "    private static final double PI = 3.1416;\n",
    "    private Integer contador = 0;\n",
    "\n",
    "    public void incrementarContador(Integer cantidad) {\n",
    "      contador += cantidad;\n",
    "    }\n",
    "}"
   ]
  },
  {
   "cell_type": "markdown",
   "metadata": {},
   "source": [
    "##### Métodos de acceso y mutadores (getter y setter)\n",
    "- Métodos de acceso\n",
    "  - Se utiliza para leer los valores de nuestras variables de clase.\n",
    "  - Normalmente se llama: **get _NombreVariable_**\n",
    "  - También devuelve un valor de tipo de dato de la variable.\n",
    "- Métodos mutadores\n",
    "  - Se utiliza para escribir o cambiar los valores de nuestras variables de clase.\n",
    "  - Normalmente se llama: **set _NombreVariable_**"
   ]
  },
  {
   "cell_type": "code",
   "execution_count": null,
   "metadata": {},
   "outputs": [],
   "source": [
    "public final class MiPrimerClase {\n",
    "  private static final double PI = 3.1416;\n",
    "  private Integer contador = 0;\n",
    "\n",
    "  public void incrementarContador(Integer cantidad) {\n",
    "    contador += cantidad;\n",
    "  }\n",
    "\n",
    "  public Integer getContador() {\n",
    "    return contador;\n",
    "  }\n",
    "\n",
    "  public void setContador(Integer valor) {\n",
    "    contador = valor;\n",
    "  }\n",
    "}"
   ]
  },
  {
   "cell_type": "markdown",
   "metadata": {},
   "source": [
    "#### Constructores\n",
    "```\n",
    "<modificador> <nombre clase> (<parametro>*) {\n",
    "    <sentencia>*\n",
    "}\n",
    "```"
   ]
  },
  {
   "cell_type": "markdown",
   "metadata": {},
   "source": [
    "- Son unos **métodos especiales** que permiten la creación de objetos de la clase.\n",
    "- El nombre de los constructores **debe ser igual al nombre de la clase** y no se define valor de retorno.\n",
    "- Solo se puede llamar utilizando el operador `new` durante la **instanciación** de la clase.\n",
    "- El constructor por defecto es aquel que se define sin parámetros. Si no se define ningún constructor en la clase, el lenguaje crea uno por defecto.\n"
   ]
  },
  {
   "cell_type": "code",
   "execution_count": null,
   "metadata": {},
   "outputs": [],
   "source": [
    "public final class MiPrimerClase {\n",
    "    private static final double PI = 3.1416;\n",
    "    private Integer contador = 0;\n",
    "\n",
    "    public MiPrimerClase(){\n",
    "    }\n",
    "    \n",
    "    public MiPrimerClase(Integer cont) {\n",
    "      contador = cont;\n",
    "    }\n",
    "  \n",
    "    public void incrementarContador(Integer cantidad) {\n",
    "      contador += cantidad;\n",
    "    }\n",
    "  \n",
    "    public Integer getContador() {\n",
    "      return contador;\n",
    "    }\n",
    "  \n",
    "    public void setContador(Integer valor) {\n",
    "      contador = valor;\n",
    "    }\n",
    "  }"
   ]
  },
  {
   "cell_type": "markdown",
   "metadata": {},
   "source": [
    "#### Palabra reservada **this**\n",
    "- Desambiguar los atributos locales de variables locales.\n",
    "- Para referirse al objeto que invocó el método no estático.\n",
    "- Para referirse a otros constructores de la clase. "
   ]
  },
  {
   "cell_type": "code",
   "execution_count": null,
   "metadata": {},
   "outputs": [],
   "source": [
    "public class EjemploThis {\n",
    "    private Integer dato;\n",
    "    \n",
    "    public EjemploThis() {\n",
    "      this(100);\n",
    "    }\n",
    "    \n",
    "    public EjemploThis(Integer dato) {\n",
    "      this.setDato(dato);\n",
    "    }\n",
    "    \n",
    "    public void setDato(Integer dato) {\n",
    "      this.dato = dato;\n",
    "    }\n",
    "    \n",
    "    public Integer getDato() {\n",
    "      return this.dato;\n",
    "    }\n",
    "}"
   ]
  },
  {
   "cell_type": "markdown",
   "metadata": {},
   "source": [
    "### Clase abstracta\n",
    "```\n",
    "<modificador> abstract class <Nombre> {\n",
    "    <atributos>\n",
    "    <constructores>\n",
    "    <métodos>\n",
    "}\n",
    "```"
   ]
  },
  {
   "cell_type": "markdown",
   "metadata": {},
   "source": [
    "- Una clase abstracta es aquella que no puede crear objetos. \n",
    "- Las clases abstractas son un tipo de clase especial que define que la clase no está completamente definida y por lo tanto **no puede ser instanciada**.\n",
    "- Debe ser marcada con el modificador **abstract** y esto permite que dentro de la definición de la clase puedan existir **métodos abstractos** (que no esté definida su implementación). Un método abstracto es aquel que no tiene método de implementación en la **superclase** donde está definida.\n",
    "- Sólo se utiliza para heredar a partir de ella, es decir, en una clase abstracta se describen los atributos y las operaciones comunes para otras clases. \n",
    "- Se especifica de forma explícita poniendo **{abstracta}** dentro del compartimento del nombre de la clase y debajo de su nombre, o decorando el nombre en _cursiva_. Si tiene algún método abstracto, también va en _cursiva_."
   ]
  },
  {
   "cell_type": "code",
   "execution_count": null,
   "metadata": {},
   "outputs": [],
   "source": [
    "public abstract class ClaseAbstracta {\n",
    "    public abstract implementar();\n",
    "}  "
   ]
  },
  {
   "cell_type": "markdown",
   "metadata": {},
   "source": [
    "### Interface\n",
    "```\n",
    "<modificador> interface <Nombre Clase> {\n",
    "  <métodos>\n",
    "}\n",
    "```"
   ]
  },
  {
   "cell_type": "markdown",
   "metadata": {},
   "source": [
    "- Permite que las clases, independiente de su ubicación en la jerarquía de clases, implementar comportamientos comunes.\n",
    "- Describe sólo operaciones (métodos) abstractas, que especifican un comportamiento que una clase puede elegir soportar **implementando** la interfaz. No incluyen atributos ni ninguna implementación.\n",
    "- Al igual que las clases, las interfaces pueden participar en relaciones de asociación, dependencia y generalización.\n",
    "- Las interfaces se representan gráficamente por medio de un **círculo pequeño** con un nombre situado debajo de él.\n",
    "- TODOS los métodos de las interface no tienen cuerpo.\n",
    "- Toda clase que cumpla con el contrato definido por la interface, debe dar la implementación o convertirse en una clase abstracta.\n",
    "\n",
    "\n",
    "##### Modificador\n",
    "- **public**: Visible para todas las clases.\n",
    "- **_sin modificador_**: Solo visible por clases del paquete.\n"
   ]
  },
  {
   "cell_type": "code",
   "execution_count": null,
   "metadata": {},
   "outputs": [],
   "source": [
    "public interface Impresora {\n",
    "    public void imprimir(String texto);\n",
    "\n",
    "    public int getVelocidad();\n",
    "}"
   ]
  },
  {
   "cell_type": "markdown",
   "metadata": {},
   "source": [
    "Desde Java 8, existe el concepto de default method donde podemos dar una implementación por defecto a un método definido en la interface. "
   ]
  },
  {
   "cell_type": "code",
   "execution_count": null,
   "metadata": {},
   "outputs": [],
   "source": [
    "public interface Impresora {\n",
    "  public void imprimir(String texto);\n",
    "  public int getVelocidad();\n",
    "    \n",
    "  public default boolean esMasRapida(Impresora i) {\n",
    "    if (i.getVelocidad() > this.getVelocidad()) {\n",
    "      return false;\n",
    "    } else {\n",
    "      return true;\n",
    "    }\n",
    "  }\n",
    "}"
   ]
  },
  {
   "cell_type": "code",
   "execution_count": null,
   "metadata": {},
   "outputs": [],
   "source": [
    "public class ImpresoraTinta implements Impresora {\n",
    "    \n",
    "  private int velocidad;\n",
    "  \n",
    "  public ImpresoraTinta(int velocidad) {\n",
    "    this.velocidad = velocidad;\n",
    "  }\n",
    "  \n",
    "  @Override\n",
    "  public int getVelocidad() {\n",
    "    return velocidad;\n",
    "  }\n",
    "  \n",
    "  @Override\n",
    "  public void imprimir(String texto) {\n",
    "    System.out.println(\"la impresora de tinta imprime:\" + texto);\n",
    "  }  \n",
    "}"
   ]
  },
  {
   "cell_type": "markdown",
   "metadata": {},
   "source": [
    "#### ¿Cómo decidir si conviene una clase abstracta o una interface?\n",
    "Debe usarse una clase abstracta cuando se está modelando una jerarquía de clases y una interfaz cuando se pretende homogeneizar nombre entre objetos que no están emparentados."
   ]
  },
  {
   "cell_type": "markdown",
   "metadata": {},
   "source": [
    "### Enumeradores\n",
    "```\n",
    "<modificador> enum <Nombre Clase> {\n",
    "  <Valores>\n",
    "}\n",
    "```"
   ]
  },
  {
   "cell_type": "markdown",
   "metadata": {},
   "source": [
    "- Son tipos de datos especiales que le permiten a una variable comportarse como un conjunto de constantes predefinidas. \n",
    "- También se usan para restringir el contenido de una variable.\n",
    "- El valor de la variable tiene que ser uno del conjunto de valores que fue previamente definida para ella."
   ]
  },
  {
   "cell_type": "code",
   "execution_count": null,
   "metadata": {},
   "outputs": [],
   "source": [
    "public enum DiaSemana {\n",
    "    LUNES,\n",
    "    MARTES,\n",
    "    MIERCOLES,\n",
    "    JUEVES,\n",
    "    VIERNES,\n",
    "    SABADO,\n",
    "    DOMINGO\n",
    "}"
   ]
  },
  {
   "cell_type": "markdown",
   "metadata": {},
   "source": [
    "### Paquetes"
   ]
  },
  {
   "cell_type": "markdown",
   "metadata": {},
   "source": [
    "Un paquete es un mecanismo para agrupar clases u otros elementos de otro tipo de diagramas en modelos más grandes, donde dichos elementos pueden ser enlazados.\n",
    "Esta característica proporciona un mecanismo conveniente para la gestión de una gran cantidad de clases e interfaces y evitar posible conflicto de nombres.\n",
    "Los paquetes, desde el punto de vista del sistema operativo, son carpetas que contienen los archivos que contienen las clases e interfaces.\n",
    "Muchas metodologías de POO usan el término subsistema para describir un paquete.\n",
    "\n",
    "#### Importando clases y paquetes\n",
    "- Para poder utilizar las clases fuera del paquete que se está trabajando, se tiene que importar las clases o el paquete de dichas clases.\n",
    "- Por defecto, todos los programas de Java importan el paquete `java.lang.*`, es por esto que se pueden utilizar las clases String y System dentro de un programa sin necesidad de importar este paquete.\n",
    "- La sintaxis de importación de una clase es:  \n",
    "`import <nombre paquete>.<nombre clase>;`  \n",
    "- La sintaxis para importar todas las clases de un paquete es:  \n",
    "`import <nombre paquete>.*;`\n",
    "\n",
    "#### Creando paquetes\n",
    "- Para crear nuestro propio paquete, debemos crear la carpeta en la estructura de directorios.\n",
    "- Las clases que se encuentran en un paquete, deben tener una instrucción que diga a qué paquete pertenece:  \n",
    "`package <nombre paquete>;`\n",
    "- Los paquetes también se pueden anidar. En este caso, el intérprete de java espera que la estructura de directorios que contiene las clases, coincida con la jerarquía de paquetes.\n",
    "- El nombre del paquete, cuando se encuentra anidado, se pondrá un punto \".\" en cada nivel de la estructura.\n",
    "Ej: `javax.swing`, `java.utils`, `oracle.jdbc.driver`"
   ]
  },
  {
   "cell_type": "markdown",
   "metadata": {},
   "source": [
    "### Objetos"
   ]
  },
  {
   "cell_type": "markdown",
   "metadata": {},
   "source": [
    "- Para crear objetos en Java, las creamos como variables de tipo de datos Clase, usando la palabra reservada **new** y llamando el constructor deseado."
   ]
  },
  {
   "cell_type": "code",
   "execution_count": null,
   "metadata": {},
   "outputs": [],
   "source": [
    "String cadena = “Hola Mundo”;\n",
    "MiPrimerPrograma primer = new MiPrimerPrograma(10);"
   ]
  },
  {
   "cell_type": "markdown",
   "metadata": {},
   "source": [
    "- En caso de Herencia de clases o implementación de interfaces, se pueden crear objetos usando variables de tipo SuperClase o Interface"
   ]
  },
  {
   "cell_type": "code",
   "execution_count": null,
   "metadata": {},
   "outputs": [],
   "source": [
    "ClaseAbstracta clase = new ClaseConcreta();\n",
    "Impresora impresoraTinta = new ImpresoraTinta();"
   ]
  },
  {
   "cell_type": "markdown",
   "metadata": {},
   "source": [
    "Desde Java 10 podemos crear variables de objetos sin definir la clase. El lenguaje infiere la clase a partir del constructor."
   ]
  },
  {
   "cell_type": "code",
   "execution_count": null,
   "metadata": {},
   "outputs": [],
   "source": [
    "var segundo = new MiPrimerPrograma(15);"
   ]
  },
  {
   "cell_type": "markdown",
   "metadata": {},
   "source": [
    "## Arrays"
   ]
  },
  {
   "cell_type": "markdown",
   "metadata": {},
   "source": [
    "- Una array o arreglo es una colección de variables del mismo tipo, a la que se hace referencia por un nombre común. \n",
    "- En Java, **los arrays son objetos** que pueden tener una o más dimensiones, aunque el array unidimensional es el más común.\n",
    "- Para declarar un array en Java"
   ]
  },
  {
   "cell_type": "code",
   "execution_count": null,
   "metadata": {},
   "outputs": [],
   "source": [
    "tipo[] nombre_array;\n",
    "int[] intArray;"
   ]
  },
  {
   "cell_type": "markdown",
   "metadata": {},
   "source": [
    "- Para crear un array en Java, debemos usar a palabra new y el tamaño del array."
   ]
  },
  {
   "cell_type": "code",
   "execution_count": null,
   "metadata": {},
   "outputs": [],
   "source": [
    "nombre_array = new tipo[tamaño];\n",
    "intArray = new int[5];"
   ]
  },
  {
   "cell_type": "markdown",
   "metadata": {},
   "source": [
    "- También es posible  inicializar el array con una lista de valores"
   ]
  },
  {
   "cell_type": "code",
   "execution_count": null,
   "metadata": {},
   "outputs": [],
   "source": [
    "int[] intArray = { 1,2,3,4,5,6,7,8,9,10 }; "
   ]
  },
  {
   "cell_type": "markdown",
   "metadata": {},
   "source": [
    "- Para asignar un valor a un array, lo asignamos con el nombre de la variable y el índice entre corchetes. Los índices inician en **0** y termina en **tamaño - 1**."
   ]
  },
  {
   "cell_type": "code",
   "execution_count": null,
   "metadata": {},
   "outputs": [],
   "source": [
    "var intArray = new int[2];\n",
    "intArray[0]  = 1;\n",
    "intArray[1]  = 2;"
   ]
  },
  {
   "cell_type": "markdown",
   "metadata": {},
   "source": [
    "Para obtener el tamaño del array, usamos el atributo **length**. Para obtener el valor usamos el nombre del array y su índice. "
   ]
  },
  {
   "cell_type": "code",
   "execution_count": null,
   "metadata": {},
   "outputs": [],
   "source": [
    "for (int i = 0; i < intArray.length; i++) {\n",
    "     System.out.println(\"Elemento en el índice \" + i + \" : \"+ intArray[i]);\n",
    "}"
   ]
  },
  {
   "cell_type": "markdown",
   "metadata": {},
   "source": [
    "- Una matriz bidimensional puede tener varias filas, y en cada fila no tiene por qué haber el mismo número de elementos o columnas.\n",
    "- Podemos verla como un array que en su contenido tiene otro array que no es necesario que tengan el mismo tamaño."
   ]
  },
  {
   "cell_type": "code",
   "execution_count": null,
   "metadata": {},
   "outputs": [],
   "source": [
    "int[][] matrizCuadrada = new int[3][3];\n",
    "int[][] matrizIrregular = new int[3];\n",
    "matrizIrregular[0] = new int[3];\n",
    "matrizIrregular[1] = new int[20];\n",
    "matrizIrregular[2] = new int[1];"
   ]
  },
  {
   "cell_type": "markdown",
   "metadata": {},
   "source": [
    "Para obtener el valor usamos el nombre del array y sus índices."
   ]
  },
  {
   "cell_type": "code",
   "execution_count": null,
   "metadata": {},
   "outputs": [],
   "source": [
    "matrizCuadrada[2][1] \n",
    "matrizIrregular[1][15]"
   ]
  }
 ],
 "metadata": {
  "kernelspec": {
   "display_name": "Java",
   "language": "java",
   "name": "java"
  },
  "language_info": {
   "name": "java"
  },
  "orig_nbformat": 4
 },
 "nbformat": 4,
 "nbformat_minor": 2
}
