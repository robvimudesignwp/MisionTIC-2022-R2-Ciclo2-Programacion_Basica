{
 "cells": [
  {
   "cell_type": "markdown",
   "metadata": {},
   "source": [
    "# Generando números aleatorios"
   ]
  },
  {
   "cell_type": "markdown",
   "metadata": {},
   "source": [
    "## Math.random()\n",
    "Otra de las muchas posibilidades que ofrece la clase **Math** es la capacidad de generar números aleatorios. Vamos a ver como se puede hacer esto ya que esto es bastante común. \n",
    "\n",
    "Pero antes debes saber que lo que vas a generar va a ser un _número pseudo-aleatorio_ esto se debe a que el número que vas a generar se crea en base a fórmulas matemáticas previamente definidas en el código de Java por lo que es imposible obtener aleatoriedad en el más pleno sentido de la palabra, no obstante aún así este sistema funciona lo suficientemente bien como para que no tengas que preocuparte porque el número que vas a generar no sea 100% aleatorio. \n",
    "\n",
    "Usando el método **Math.random()** puedes generar un número aleatorio entre 0 y 1 pero eso si, el número generado nunca a a ser 1, pero si puede acercarse a este número."
   ]
  },
  {
   "cell_type": "code",
   "execution_count": null,
   "metadata": {},
   "outputs": [],
   "source": [
    "System.out.println(Math.random());"
   ]
  },
  {
   "cell_type": "markdown",
   "metadata": {},
   "source": [
    "En el caso que quieras que el número generado este entre `0` y `n` puedes multiplicar el número que retorne el método `random()` por el número máximo que quieres en el `rango + 1`.\n",
    "\n",
    "Ejemplo: Generar número entre 0 y 6 "
   ]
  },
  {
   "cell_type": "code",
   "execution_count": null,
   "metadata": {},
   "outputs": [],
   "source": [
    "System.out.println(Math.floor(Math.random() * 7));"
   ]
  },
  {
   "cell_type": "markdown",
   "metadata": {},
   "source": [
    "## La clase **Random**\n"
   ]
  },
  {
   "cell_type": "markdown",
   "metadata": {},
   "source": [
    "La clase Random puede generar números aleatorios (o pseudo-aleatorios) entre -2^31 y 2^32."
   ]
  },
  {
   "cell_type": "code",
   "execution_count": null,
   "metadata": {},
   "outputs": [],
   "source": [
    "import java.util.Random;\n",
    "\n",
    "Random claseRandom = new Random();\n",
    "System.out.println(claseRandom.nextInt(7));"
   ]
  },
  {
   "cell_type": "markdown",
   "metadata": {},
   "source": [
    "Si quieres generar un número entre 15 y 25."
   ]
  },
  {
   "cell_type": "code",
   "execution_count": null,
   "metadata": {},
   "outputs": [],
   "source": [
    "int randomInt = 15 + claseRandom.nextInt(26 - 15);\n",
    "System.out.println(randomInt);"
   ]
  }
 ],
 "metadata": {
  "kernelspec": {
   "display_name": "Java",
   "language": "java",
   "name": "java"
  },
  "language_info": {
   "codemirror_mode": "java",
   "file_extension": ".jshell",
   "mimetype": "text/x-java-source",
   "name": "java",
   "pygments_lexer": "java",
   "version": "17.0.1+12"
  },
  "orig_nbformat": 4
 },
 "nbformat": 4,
 "nbformat_minor": 2
}
